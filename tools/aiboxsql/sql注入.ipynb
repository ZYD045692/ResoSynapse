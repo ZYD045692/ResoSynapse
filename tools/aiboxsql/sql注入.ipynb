{
 "cells": [
  {
   "cell_type": "code",
   "execution_count": 1,
   "metadata": {},
   "outputs": [],
   "source": [
    "import pandas as pd\n",
    "import mysql.connector\n",
    "db_config = {\n",
    "    \"host\": \"localhost\",\n",
    "    \"user\": \"root\",\n",
    "    \"password\": \"123456\",\n",
    "    \"database\": \"aitooldb\",\n",
    "    # \"database\": \"blog2\",\n",
    "}"
   ]
  },
  {
   "cell_type": "code",
   "execution_count": 13,
   "metadata": {},
   "outputs": [],
   "source": [
    "def insert_data_into_mysql(create_table_query,db_config, table_name, data):\n",
    "    try:\n",
    "        conn = mysql.connector.connect(**db_config)\n",
    "        print(\"数据库连接成功\")\n",
    "    except mysql.connector.Error as e:\n",
    "        print(f\"数据库连接失败: {e}\")\n",
    "        return\n",
    "    \n",
    "    try:\n",
    "        cursor = conn.cursor()\n",
    "        cursor.execute(create_table_query)\n",
    "        print(f\"数据表{table_name}创建成功\")\n",
    "    except mysql.connector.Error as e:\n",
    "        print(f\"数据表{table_name}创建失败: {e}\")\n",
    "\n",
    "    try:\n",
    "        data = data.astype(str)\n",
    "        data_insert = [tuple(row) for row in data.values]\n",
    "        data_columns = ','.join(list(data.columns))\n",
    "        insert_s = ','.join(['%s' for _ in list(data.columns)])\n",
    "        insert_query = f\"INSERT INTO {table_name} ({data_columns}) VALUES ({insert_s})\"\n",
    "        print(insert_query)\n",
    "        cursor.executemany(insert_query, data_insert)\n",
    "        conn.commit()\n",
    "        cursor.close()\n",
    "        conn.close()\n",
    "        print('数据插入成功')\n",
    "    except mysql.connector.Error as e:\n",
    "        print(f\"数据插入失败: {e}\")"
   ]
  },
  {
   "cell_type": "code",
   "execution_count": 14,
   "metadata": {},
   "outputs": [],
   "source": [
    "block_widgets = \"\"\"\n",
    "CREATE TABLE `block_widgets`  (\n",
    "  `id` int NOT NULL AUTO_INCREMENT,\n",
    "  `name` varchar(50) CHARACTER SET utf8mb3 COLLATE utf8mb3_general_ci NOT NULL,\n",
    "  `icon_url` varchar(200) CHARACTER SET utf8mb3 COLLATE utf8mb3_general_ci NULL DEFAULT NULL,\n",
    "  `display_order` int NULL DEFAULT 0,\n",
    "  `is_visible` tinyint(1) NULL DEFAULT 1,\n",
    "  PRIMARY KEY (`id`) USING BTREE\n",
    ") ENGINE = InnoDB AUTO_INCREMENT = 2 CHARACTER SET = utf8mb3 COLLATE = utf8mb3_general_ci ROW_FORMAT = Dynamic;\"\"\""
   ]
  },
  {
   "cell_type": "code",
   "execution_count": 15,
   "metadata": {},
   "outputs": [
    {
     "name": "stdout",
     "output_type": "stream",
     "text": [
      "数据库连接成功\n",
      "数据表block_widgets创建成功\n",
      "INSERT INTO block_widgets (id,icon_url,name,display_order) VALUES (%s,%s,%s,%s)\n",
      "数据插入成功\n"
     ]
    }
   ],
   "source": [
    "block_widgets_pd = pd.read_csv('block_widgets.csv')\n",
    "insert_data_into_mysql(\n",
    "    create_table_query = block_widgets,\n",
    "    db_config = db_config,\n",
    "    table_name = 'block_widgets',\n",
    "    data = block_widgets_pd)"
   ]
  },
  {
   "cell_type": "code",
   "execution_count": 16,
   "metadata": {},
   "outputs": [],
   "source": [
    "module_widgets = \"\"\"\n",
    "CREATE TABLE `module_widgets`  (\n",
    "  `id` int NOT NULL AUTO_INCREMENT,\n",
    "  `name` varchar(50) CHARACTER SET utf8mb3 COLLATE utf8mb3_general_ci NOT NULL,\n",
    "  `url` varchar(200) CHARACTER SET utf8mb3 COLLATE utf8mb3_general_ci NOT NULL,\n",
    "  `icon_url` varchar(200) CHARACTER SET utf8mb3 COLLATE utf8mb3_general_ci NULL DEFAULT NULL,\n",
    "  `display_order` int NULL DEFAULT 0,\n",
    "  `is_visible` tinyint(1) NULL DEFAULT 1,\n",
    "  `father_id` int NOT NULL,\n",
    "  PRIMARY KEY (`id`) USING BTREE\n",
    ") ENGINE = InnoDB AUTO_INCREMENT = 5 CHARACTER SET = utf8mb3 COLLATE = utf8mb3_general_ci ROW_FORMAT = Dynamic;\n",
    "\"\"\""
   ]
  },
  {
   "cell_type": "code",
   "execution_count": 17,
   "metadata": {},
   "outputs": [
    {
     "name": "stdout",
     "output_type": "stream",
     "text": [
      "数据库连接成功\n",
      "数据表module_widgets创建成功\n",
      "INSERT INTO module_widgets (id,name,url,icon_url,display_order,father_id) VALUES (%s,%s,%s,%s,%s,%s)\n",
      "数据插入成功\n"
     ]
    }
   ],
   "source": [
    "module_widgets_pd = pd.read_csv('module_widgets.csv')\n",
    "insert_data_into_mysql(\n",
    "    create_table_query = module_widgets,\n",
    "    db_config = db_config,\n",
    "    table_name = 'module_widgets',\n",
    "    data = module_widgets_pd)"
   ]
  },
  {
   "cell_type": "code",
   "execution_count": 18,
   "metadata": {},
   "outputs": [],
   "source": [
    "widget_assignments = \"\"\"\n",
    "CREATE TABLE `widget_assignments`  (\n",
    "  `id` int NOT NULL AUTO_INCREMENT,\n",
    "  `block_id` int NOT NULL,\n",
    "  `module_id` int NOT NULL,\n",
    "  PRIMARY KEY (`id`) USING BTREE,\n",
    "  UNIQUE INDEX `block_id`(`block_id` ASC, `module_id` ASC) USING BTREE\n",
    ") ENGINE = InnoDB CHARACTER SET = utf8mb3 COLLATE = utf8mb3_general_ci ROW_FORMAT = Dynamic;\n",
    "\"\"\""
   ]
  },
  {
   "cell_type": "code",
   "execution_count": 19,
   "metadata": {},
   "outputs": [],
   "source": [
    "# widget_assignments_pd = pd.read_csv('widget_assignments.csv')\n",
    "# insert_data_into_mysql(\n",
    "#     create_table_query = widget_assignments,\n",
    "#     db_config = db_config,\n",
    "#     table_name = 'widget_assignments',\n",
    "#     data = widget_assignments_pd)"
   ]
  }
 ],
 "metadata": {
  "kernelspec": {
   "display_name": "pytorch",
   "language": "python",
   "name": "python3"
  },
  "language_info": {
   "codemirror_mode": {
    "name": "ipython",
    "version": 3
   },
   "file_extension": ".py",
   "mimetype": "text/x-python",
   "name": "python",
   "nbconvert_exporter": "python",
   "pygments_lexer": "ipython3",
   "version": "3.8.19"
  }
 },
 "nbformat": 4,
 "nbformat_minor": 2
}
