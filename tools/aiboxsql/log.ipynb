{
 "cells": [
  {
   "cell_type": "code",
   "execution_count": 1,
   "metadata": {},
   "outputs": [],
   "source": [
    "import pandas as pd\n",
    "import random\n",
    "from datetime import datetime, timedelta\n",
    "import mysql.connector\n",
    "db_config = {\n",
    "    \"host\": \"localhost\",\n",
    "    \"user\": \"root\",\n",
    "    \"password\": \"123456\",\n",
    "    \"database\": \"aitooldb\",\n",
    "    # \"database\": \"blog2\",\n",
    "}"
   ]
  },
  {
   "cell_type": "code",
   "execution_count": 2,
   "metadata": {},
   "outputs": [
    {
     "name": "stdout",
     "output_type": "stream",
     "text": [
      "数据库连接成功！\n"
     ]
    },
    {
     "name": "stderr",
     "output_type": "stream",
     "text": [
      "C:\\Users\\Surperman\\AppData\\Local\\Temp\\ipykernel_35048\\3305178248.py:11: UserWarning: pandas only supports SQLAlchemy connectable (engine/connection) or database string URI or sqlite3 DBAPI2 connection. Other DBAPI2 objects are not tested. Please consider using SQLAlchemy.\n",
      "  df = pd.read_sql(query, connection)\n"
     ]
    },
    {
     "name": "stdout",
     "output_type": "stream",
     "text": [
      "数据库连接已关闭\n"
     ]
    }
   ],
   "source": [
    "# 连接数据库\n",
    "try:\n",
    "    connection = mysql.connector.connect(**db_config)\n",
    "    if connection.is_connected():\n",
    "        print(\"数据库连接成功！\")\n",
    "\n",
    "        # 查询语句\n",
    "        query = \"SELECT id FROM module_widgets\"\n",
    "\n",
    "        # 使用 pandas 的 read_sql 函数查询数据\n",
    "        df = pd.read_sql(query, connection)\n",
    "\n",
    "        for id  in df['id']:\n",
    "            insert_query = \"INSERT INTO widget_usage_logs (widget_id,user_id) VALUES (%s,%s)\"\n",
    "            num = random.randint(20,50)\n",
    "            for i in range(num):\n",
    "                try:\n",
    "                    cursor = connection.cursor()\n",
    "                    cursor.execute(insert_query, (int(id),1))\n",
    "                    connection.commit()  # 提交事务\n",
    "                except mysql.connector.Error as insert_err:\n",
    "                    print(f\"插入数据时出错：{insert_err}\")\n",
    "                finally:\n",
    "                    cursor.close()\n",
    "\n",
    "\n",
    "except mysql.connector.Error as err:\n",
    "    print(f\"数据库连接失败或查询出错：{err}\")\n",
    "finally:\n",
    "    if connection.is_connected():\n",
    "        connection.close()\n",
    "        print(\"数据库连接已关闭\")"
   ]
  },
  {
   "cell_type": "code",
   "execution_count": 3,
   "metadata": {},
   "outputs": [
    {
     "name": "stdout",
     "output_type": "stream",
     "text": [
      "当前时间: 2025-03-27 08:43:54.233738\n",
      "三天前的时间: 2025-03-24 08:43:54.233738\n",
      "格式化的时间戳: 2025-03-24 08:43:54\n"
     ]
    }
   ],
   "source": [
    "from datetime import datetime, timedelta\n",
    "\n",
    "# 获取当前时间\n",
    "now = datetime.now()\n",
    "print(\"当前时间:\", now)\n",
    "\n",
    "# 计算三天前的时间\n",
    "three_days_ago = now - timedelta(days=3)\n",
    "print(\"三天前的时间:\", three_days_ago)\n",
    "\n",
    "# 格式化输出时间戳\n",
    "formatted_timestamp = three_days_ago.strftime(\"%Y-%m-%d %H:%M:%S\")\n",
    "print(\"格式化的时间戳:\", formatted_timestamp)"
   ]
  },
  {
   "cell_type": "code",
   "execution_count": 4,
   "metadata": {},
   "outputs": [
    {
     "name": "stdout",
     "output_type": "stream",
     "text": [
      "数据库连接成功！\n"
     ]
    },
    {
     "name": "stderr",
     "output_type": "stream",
     "text": [
      "C:\\Users\\Surperman\\AppData\\Local\\Temp\\ipykernel_35048\\556370690.py:11: UserWarning: pandas only supports SQLAlchemy connectable (engine/connection) or database string URI or sqlite3 DBAPI2 connection. Other DBAPI2 objects are not tested. Please consider using SQLAlchemy.\n",
      "  df = pd.read_sql(query, connection)\n"
     ]
    },
    {
     "name": "stdout",
     "output_type": "stream",
     "text": [
      "数据库连接已关闭\n"
     ]
    }
   ],
   "source": [
    "# 连接数据库\n",
    "try:\n",
    "    connection = mysql.connector.connect(**db_config)\n",
    "    if connection.is_connected():\n",
    "        print(\"数据库连接成功！\")\n",
    "\n",
    "        # 查询语句\n",
    "        query = \"SELECT id FROM module_widgets\"\n",
    "\n",
    "        # 使用 pandas 的 read_sql 函数查询数据\n",
    "        df = pd.read_sql(query, connection)\n",
    "        for n in range(7):\n",
    "            # 计算n天前的时间\n",
    "            n_days_ago = now - timedelta(days=n)\n",
    "\n",
    "            # 格式化输出时间戳\n",
    "            formatted_timestamp = n_days_ago.strftime(\"%Y-%m-%d %H:%M:%S\")\n",
    "\n",
    "            for id  in df['id']:\n",
    "                insert_query = \"INSERT INTO widget_ratings (widget_id,user_id,rating_date,dimension1,dimension2,dimension3) VALUES (%s,%s,%s,%s,%s,%s)\"\n",
    "                num = random.randint(20,50)\n",
    "                for i in range(num):\n",
    "                    try:\n",
    "                        cursor = connection.cursor()\n",
    "                        cursor.execute(insert_query, (int(id),1,formatted_timestamp,random.randint(1,5),random.randint(1,5),random.randint(1,5)))\n",
    "                        connection.commit()  # 提交事务\n",
    "                    except mysql.connector.Error as insert_err:\n",
    "                        print(f\"插入数据时出错：{insert_err}\")\n",
    "                    finally:\n",
    "                        cursor.close()\n",
    "\n",
    "\n",
    "except mysql.connector.Error as err:\n",
    "    print(f\"数据库连接失败或查询出错：{err}\")\n",
    "finally:\n",
    "    if connection.is_connected():\n",
    "        connection.close()\n",
    "        print(\"数据库连接已关闭\")"
   ]
  }
 ],
 "metadata": {
  "kernelspec": {
   "display_name": "pytorch",
   "language": "python",
   "name": "python3"
  },
  "language_info": {
   "codemirror_mode": {
    "name": "ipython",
    "version": 3
   },
   "file_extension": ".py",
   "mimetype": "text/x-python",
   "name": "python",
   "nbconvert_exporter": "python",
   "pygments_lexer": "ipython3",
   "version": "3.8.19"
  }
 },
 "nbformat": 4,
 "nbformat_minor": 2
}
